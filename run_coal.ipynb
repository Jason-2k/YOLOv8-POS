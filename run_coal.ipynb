{
 "cells": [
  {
   "cell_type": "markdown",
   "source": [
    "## 系统测试"
   ],
   "metadata": {
    "collapsed": false
   },
   "id": "e03530c49a281e16"
  },
  {
   "cell_type": "code",
   "id": "8afe035fd6e98f53",
   "metadata": {
    "collapsed": true
   },
   "source": [
    "import ultralytics\n",
    "\n",
    "ultralytics.checks()"
   ],
   "execution_count": 1,
   "outputs": [
    {
     "name": "stdout",
     "output_type": "stream",
     "text": [
      "Ultralytics YOLOv8.1.34 🚀 Python-3.9.17 torch-2.0.1 CUDA:0 (NVIDIA GeForce RTX 3080 Laptop GPU, 16384MiB)\n",
      "Setup complete ✅ (16 CPUs, 31.9 GB RAM, 42.8/200.0 GB disk)\n"
     ]
    }
   ]
  },
  {
   "cell_type": "code",
   "source": [
    "from ultralytics import settings\n",
    "\n",
    "# Update a setting\n",
    "settings.update({'datasets_dir': r'D:\\PycharmProjects\\ultralytics\\coal_yolov8\\datasets'})\n",
    "# settings.update({'datasets_dir': r'/root/autodl-tmp/datasets'})\n",
    "\n",
    "settings"
   ],
   "metadata": {
    "collapsed": false,
    "ExecuteTime": {
     "end_time": "2024-09-18T06:52:56.714543Z",
     "start_time": "2024-09-18T06:52:56.703766Z"
    }
   },
   "id": "23600c5768d1d3f2",
   "outputs": [
    {
     "data": {
      "text/plain": [
       "{'settings_version': '0.0.4',\n",
       " 'datasets_dir': 'D:\\\\PycharmProjects\\\\ultralytics\\\\coal_yolov8\\\\datasets',\n",
       " 'weights_dir': 'weights',\n",
       " 'runs_dir': 'runs',\n",
       " 'uuid': 'ea10bf0dc76038d67cb5f3aabd267688a64b83341ca474bfa6ede7e2cbd3b142',\n",
       " 'sync': True,\n",
       " 'api_key': '',\n",
       " 'openai_api_key': '',\n",
       " 'clearml': True,\n",
       " 'comet': True,\n",
       " 'dvc': True,\n",
       " 'hub': True,\n",
       " 'mlflow': True,\n",
       " 'neptune': True,\n",
       " 'raytune': True,\n",
       " 'tensorboard': True,\n",
       " 'wandb': True}"
      ]
     },
     "execution_count": 6,
     "metadata": {},
     "output_type": "execute_result"
    }
   ],
   "execution_count": 6
  },
  {
   "cell_type": "markdown",
   "source": [
    "## 煤矿数据集"
   ],
   "metadata": {
    "collapsed": false
   },
   "id": "8d4d02e30d66eb3d"
  },
  {
   "cell_type": "code",
   "source": [
    "from ultralytics import YOLO\n",
    "\n",
    "model = YOLO('model_yaml/yolov8n-PConv-OSRA-SlimNeck.yaml').load('yolov8n.pt')  # build from YAML and transfer weights\n",
    "# model.info()"
   ],
   "metadata": {
    "collapsed": false,
    "ExecuteTime": {
     "end_time": "2024-09-18T06:54:36.564769Z",
     "start_time": "2024-09-18T06:54:30.972160Z"
    }
   },
   "id": "e90cca4f43f81d9b",
   "outputs": [
    {
     "name": "stdout",
     "output_type": "stream",
     "text": [
      "Transferred 90/505 items from pretrained weights\n"
     ]
    }
   ],
   "execution_count": 1
  },
  {
   "cell_type": "code",
   "source": [
    "# Train\n",
    "results = model.train(data='Coal.yaml', epochs=3, imgsz=640)  # workers=15, batch=-1\n",
    "# NOTE: 固定参数\n",
    "# results = model.train(data='Coal.yaml', epochs=300, imgsz=640, workers=15, batch=32,\n",
    "#                       optimizer='SGD', lr0=0.01, lrf=0.01, momentum=0.937, weight_decay=0.0005)"
   ],
   "metadata": {
    "collapsed": false,
    "ExecuteTime": {
     "end_time": "2024-09-18T06:57:31.571637300Z",
     "start_time": "2024-09-18T06:54:45.698759Z"
    }
   },
   "id": "initial_id",
   "outputs": [
    {
     "name": "stdout",
     "output_type": "stream",
     "text": [
      "New https://pypi.org/project/ultralytics/8.2.95 available 😃 Update with 'pip install -U ultralytics'\n",
      "Ultralytics YOLOv8.1.34 🚀 Python-3.9.17 torch-2.0.1 CUDA:0 (NVIDIA GeForce RTX 3080 Laptop GPU, 16384MiB)\n",
      "\u001B[34m\u001B[1mengine\\trainer: \u001B[0mtask=detect, mode=train, model=model_yaml/yolov8n-PConv-OSRA-SlimNeck.yaml, data=Coal.yaml, epochs=3, time=None, patience=100, batch=16, imgsz=640, save=True, save_period=-1, cache=False, device=None, workers=8, project=None, name=train4, exist_ok=False, pretrained=True, optimizer=auto, verbose=True, seed=0, deterministic=True, single_cls=False, rect=False, cos_lr=False, close_mosaic=10, resume=False, amp=True, fraction=1.0, profile=False, freeze=None, multi_scale=False, overlap_mask=True, mask_ratio=4, dropout=0.0, val=True, split=val, save_json=False, save_hybrid=False, conf=None, iou=0.7, max_det=300, half=False, dnn=False, plots=True, source=None, vid_stride=1, stream_buffer=False, visualize=False, augment=False, agnostic_nms=False, classes=None, retina_masks=False, embed=None, show=False, save_frames=False, save_txt=False, save_conf=False, save_crop=False, show_labels=True, show_conf=True, show_boxes=True, line_width=None, format=torchscript, keras=False, optimize=False, int8=False, dynamic=False, simplify=False, opset=None, workspace=4, nms=False, lr0=0.01, lrf=0.01, momentum=0.937, weight_decay=0.0005, warmup_epochs=3.0, warmup_momentum=0.8, warmup_bias_lr=0.1, box=7.5, cls=0.5, dfl=1.5, pose=12.0, kobj=1.0, label_smoothing=0.0, nbs=64, hsv_h=0.015, hsv_s=0.7, hsv_v=0.4, degrees=0.0, translate=0.1, scale=0.5, shear=0.0, perspective=0.0, flipud=0.0, fliplr=0.5, bgr=0.0, mosaic=1.0, mixup=0.0, copy_paste=0.0, auto_augment=randaugment, erasing=0.4, crop_fraction=1.0, cfg=None, tracker=botsort.yaml, save_dir=runs\\detect\\train4\n",
      "\n",
      "                   from  n    params  module                                       arguments                     \n",
      "  0                  -1  1       464  ultralytics.nn.modules.conv.Conv             [3, 16, 3, 2]                 \n",
      "  1                  -1  1      4672  ultralytics.nn.modules.conv.Conv             [16, 32, 3, 2]                \n",
      "  2                  -1  1      3552  ultralytics.nn.modules.convolution.PConv.C2f_PConv[32, 32, 1, True]             \n",
      "  3                  -1  1     18560  ultralytics.nn.modules.conv.Conv             [32, 64, 3, 2]                \n",
      "  4                  -1  2     19200  ultralytics.nn.modules.convolution.PConv.C2f_PConv[64, 64, 2, True]             \n",
      "  5                  -1  1     73984  ultralytics.nn.modules.conv.Conv             [64, 128, 3, 2]               \n",
      "  6                  -1  2     75776  ultralytics.nn.modules.convolution.PConv.C2f_PConv[128, 128, 2, True]           \n",
      "  7                  -1  1    295424  ultralytics.nn.modules.conv.Conv             [128, 256, 3, 2]              \n",
      "  8                  -1  1    216576  ultralytics.nn.modules.convolution.PConv.C2f_PConv[256, 256, 1, True]           \n",
      "  9                  -1  1    164608  ultralytics.nn.modules.block.SPPF            [256, 256, 5]                 \n",
      " 10                  -1  1    199936  ultralytics.nn.modules.attention.TransXNet.OSRA[256]                         \n",
      " 11                  -1  1         0  torch.nn.modules.upsampling.Upsample         [None, 2, 'nearest']          \n",
      " 12             [-1, 6]  1         0  ultralytics.nn.modules.conv.Concat           [1]                           \n",
      " 13                  -1  1    129600  ultralytics.nn.modules.structure.SlimNeck.VoVGSCSP[384, 128, 1]                 \n",
      " 14                  -1  1         0  torch.nn.modules.upsampling.Upsample         [None, 2, 'nearest']          \n",
      " 15             [-1, 4]  1         0  ultralytics.nn.modules.conv.Concat           [1]                           \n",
      " 16                  -1  1     33056  ultralytics.nn.modules.structure.SlimNeck.VoVGSCSP[192, 64, 1]                  \n",
      " 17                  -1  1     19360  ultralytics.nn.modules.structure.SlimNeck.GSConv[64, 64, 3, 2]                \n",
      " 18            [-1, 13]  1         0  ultralytics.nn.modules.conv.Concat           [1]                           \n",
      " 19                  -1  1    105024  ultralytics.nn.modules.structure.SlimNeck.VoVGSCSP[192, 128, 1]                 \n",
      " 20                  -1  1     75584  ultralytics.nn.modules.structure.SlimNeck.GSConv[128, 128, 3, 2]              \n",
      " 21            [-1, 10]  1         0  ultralytics.nn.modules.conv.Concat           [1]                           \n",
      " 22                  -1  1    414848  ultralytics.nn.modules.structure.SlimNeck.VoVGSCSP[384, 256, 1]                 \n",
      " 23        [16, 19, 22]  1    751507  ultralytics.nn.modules.head.Detect           [1, [64, 128, 256]]           \n",
      "YOLOv8n-PConv-OSRA-SlimNeck summary: 351 layers, 2601731 parameters, 2601715 gradients, 6.4 GFLOPs\n",
      "\n",
      "Transferred 505/505 items from pretrained weights\n",
      "\u001B[34m\u001B[1mTensorBoard: \u001B[0mStart with 'tensorboard --logdir runs\\detect\\train4', view at http://localhost:6006/\n",
      "Freezing layer 'model.23.dfl.conv.weight'\n",
      "\u001B[34m\u001B[1mAMP: \u001B[0mrunning Automatic Mixed Precision (AMP) checks with YOLOv8n...\n",
      "\u001B[34m\u001B[1mAMP: \u001B[0mchecks passed ✅\n"
     ]
    },
    {
     "name": "stderr",
     "output_type": "stream",
     "text": [
      "\u001B[34m\u001B[1mtrain: \u001B[0mScanning D:\\PycharmProjects\\ultralytics\\coal_yolov8\\datasets\\Coal\\labels\\train.cache... 3312 images, 76 backgrounds, 0 corrupt: 100%|██████████| 3312/3312 [00:00<?, ?it/s]\n",
      "\u001B[34m\u001B[1mval: \u001B[0mScanning D:\\PycharmProjects\\ultralytics\\coal_yolov8\\datasets\\Coal\\labels\\val.cache... 954 images, 15 backgrounds, 0 corrupt: 100%|██████████| 954/954 [00:00<?, ?it/s]\n"
     ]
    },
    {
     "name": "stdout",
     "output_type": "stream",
     "text": [
      "Plotting labels to runs\\detect\\train4\\labels.jpg... \n",
      "\u001B[34m\u001B[1moptimizer:\u001B[0m 'optimizer=auto' found, ignoring 'lr0=0.01' and 'momentum=0.937' and determining best 'optimizer', 'lr0' and 'momentum' automatically... \n",
      "\u001B[34m\u001B[1moptimizer:\u001B[0m AdamW(lr=0.002, momentum=0.9) with parameter groups 79 weight(decay=0.0), 101 weight(decay=0.0005), 88 bias(decay=0.0)\n",
      "\u001B[34m\u001B[1mTensorBoard: \u001B[0mmodel graph visualization added ✅\n",
      "Image sizes 640 train, 640 val\n",
      "Using 8 dataloader workers\n",
      "Logging results to \u001B[1mruns\\detect\\train4\u001B[0m\n",
      "Starting training for 3 epochs...\n",
      "\n",
      "      Epoch    GPU_mem   box_loss   cls_loss   dfl_loss  Instances       Size\n"
     ]
    },
    {
     "name": "stderr",
     "output_type": "stream",
     "text": [
      "        1/3      2.27G      3.171      3.138      4.163         58        640:  21%|██▏       | 44/207 [00:09<00:36,  4.48it/s]\n",
      "\n",
      "KeyboardInterrupt\n",
      "\n"
     ]
    }
   ],
   "execution_count": 2
  },
  {
   "cell_type": "code",
   "source": [
    "# Validate\n",
    "model = YOLO('./runs/detect/train/weights/best.pt')  # load a custom model\n",
    "\n",
    "# Validate the model\n",
    "metrics = model.val(split='test')  # no arguments needed, dataset and settings remembered"
   ],
   "metadata": {
    "collapsed": false
   },
   "id": "e38e5c51afda7a01",
   "outputs": [],
   "execution_count": null
  },
  {
   "cell_type": "code",
   "source": [
    "# Batch-Inference v8.1.34\n",
    "from ultralytics import YOLO\n",
    "import os\n",
    "\n",
    "source = '/root/autodl-tmp/ultralytics/coal_yolov8/datasets/origin'  # Define path to directory containing images and videos for inference\n",
    "dst = '/root/autodl-tmp/ultralytics/runs/predict/v8n-trained'\n",
    "os.makedirs(dst, exist_ok = True)\n",
    "\n",
    "model = YOLO('best-POS.pt')  # load a custom model\n",
    "results = model(source, stream=True)\n",
    "\n",
    "# Visualization\n",
    "from PIL import Image\n",
    "\n",
    "for i, r in enumerate(results):\n",
    "    im_array = r.plot()  # plot a BGR numpy array of predictions\n",
    "    im = Image.fromarray(im_array[..., ::-1])  # RGB PIL image\n",
    "    # im.show()  # Show results to screen (in supported environments)\n",
    "    im.save(f'{dst}/results{i}.jpg')  # Save results to disk"
   ],
   "metadata": {
    "collapsed": false
   },
   "id": "6aeefd3e5727c2e9",
   "outputs": [],
   "execution_count": null
  },
  {
   "metadata": {},
   "cell_type": "code",
   "outputs": [],
   "execution_count": null,
   "source": "",
   "id": "5990a76c9f942a3e"
  }
 ],
 "metadata": {
  "kernelspec": {
   "display_name": "Python 3",
   "language": "python",
   "name": "python3"
  },
  "language_info": {
   "codemirror_mode": {
    "name": "ipython",
    "version": 2
   },
   "file_extension": ".py",
   "mimetype": "text/x-python",
   "name": "python",
   "nbconvert_exporter": "python",
   "pygments_lexer": "ipython2",
   "version": "2.7.6"
  }
 },
 "nbformat": 4,
 "nbformat_minor": 5
}
